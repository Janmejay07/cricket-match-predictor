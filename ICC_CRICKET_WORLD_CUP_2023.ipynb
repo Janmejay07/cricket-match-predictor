{
  "cells": [
    {
      "cell_type": "code",
      "execution_count": null,
      "metadata": {
        "id": "1l15jbutmGSK"
      },
      "outputs": [],
      "source": [
        "# Import all libraries and dependencies\n",
        "\n",
        "import pandas as pd\n",
        "import numpy as np\n",
        "import matplotlib.pyplot as plt\n",
        "import seaborn as sns\n",
        "import matplotlib.ticker as ticker\n",
        "import matplotlib.ticker as plticker\n",
        "from sklearn.model_selection import train_test_split\n",
        "from sklearn.linear_model import LogisticRegression"
      ]
    },
    {
      "cell_type": "code",
      "execution_count": null,
      "metadata": {
        "id": "05yaN1lNmGSP"
      },
      "outputs": [],
      "source": [
        "# load the data files\n",
        "\n",
        "world_cup = pd.read_csv('WC-2023.csv')\n",
        "results = pd.read_csv('ODI.csv')"
      ]
    },
    {
      "cell_type": "code",
      "execution_count": null,
      "metadata": {
        "colab": {
          "base_uri": "https://localhost:8080/",
          "height": 206
        },
        "id": "8A-9qUxRmGSQ",
        "outputId": "d2678efd-0a15-4a93-8ecd-f1862d22522a"
      },
      "outputs": [],
      "source": [
        "# Display the head of the data file\n",
        "\n",
        "world_cup.head()"
      ]
    },
    {
      "cell_type": "code",
      "execution_count": null,
      "metadata": {
        "colab": {
          "base_uri": "https://localhost:8080/",
          "height": 206
        },
        "id": "Gwu1LN75mGSS",
        "outputId": "eb22f036-a688-456b-fd6e-f0d2f8a28031"
      },
      "outputs": [],
      "source": [
        "# Display the head of the data file\n",
        "\n",
        "results.head()"
      ]
    },
    {
      "cell_type": "code",
      "execution_count": null,
      "metadata": {
        "colab": {
          "base_uri": "https://localhost:8080/",
          "height": 206
        },
        "id": "-hUcEwMCmGSS",
        "outputId": "3a608663-97c2-4308-af60-a489f0a108c2"
      },
      "outputs": [],
      "source": [
        "# Filter the matches played by India\n",
        "\n",
        "df = results[(results['Team_1'] == 'India') | (results['Team_2'] == 'India')]\n",
        "india = df.iloc[:]\n",
        "india.head()"
      ]
    },
    {
      "cell_type": "code",
      "execution_count": null,
      "metadata": {
        "colab": {
          "base_uri": "https://localhost:8080/",
          "height": 245
        },
        "id": "sruDG37emGST",
        "outputId": "72b7afea-18ac-4f91-e63b-41652583764c"
      },
      "outputs": [],
      "source": [
        "#Create a column for the matches played in 2019\n",
        "year = []\n",
        "for row in india['date']:\n",
        "    # Split the date using comma as a separator and extract the second part (year)\n",
        "    year_part = row.split(',')[1].strip()\n",
        "    # Convert the extracted year to an integer and append it to the 'year' list\n",
        "    year.append(int(year_part))\n",
        "india['match_year'] = year\n",
        "\n",
        "# Filter matches played in 2019\n",
        "# or later\n",
        "india_2019 = india[india.match_year >= 2019]\n",
        "india_2019.count()\n"
      ]
    },
    {
      "cell_type": "code",
      "execution_count": null,
      "metadata": {
        "colab": {
          "base_uri": "https://localhost:8080/"
        },
        "id": "Oxz7NOivmGSU",
        "outputId": "19de1f96-f200-4c32-c9b2-11ac63564ad6"
      },
      "outputs": [],
      "source": [
        "#Combine the teams participating in the world cup\n",
        "\n",
        "worldcup_teams = ['England', ' South Africa', 'Netherlans',\n",
        "            'Pakistan', 'New Zealand', 'Sri Lanka', 'Afghanistan',\n",
        "            'Australia', 'Bangladesh', 'India']\n",
        "df_teams_1 = results[results['Team_1'].isin(worldcup_teams)]\n",
        "df_teams_2 = results[results['Team_2'].isin(worldcup_teams)]\n",
        "df_teams = pd.concat((df_teams_1, df_teams_2))\n",
        "df_teams.drop_duplicates()\n",
        "df_teams.count()"
      ]
    },
    {
      "cell_type": "code",
      "execution_count": null,
      "metadata": {
        "colab": {
          "base_uri": "https://localhost:8080/",
          "height": 206
        },
        "id": "0BQM4yFfmGSU",
        "outputId": "44144f19-bc34-4876-e182-dc832dc40bda"
      },
      "outputs": [],
      "source": [
        "# Display the results of the newly created dataframe\n",
        "\n",
        "df_teams.head()"
      ]
    },
    {
      "cell_type": "code",
      "execution_count": null,
      "metadata": {
        "colab": {
          "base_uri": "https://localhost:8080/",
          "height": 206
        },
        "id": "sDcPtjBSmGSV",
        "outputId": "d97e952b-2ba0-423c-bc57-c15a3b800bb1"
      },
      "outputs": [],
      "source": [
        "# Delete the columns that won't affect match results\n",
        "\n",
        "df_teams_2019 = df_teams.drop(['date','Margin' ,'Ground'], axis=1)\n",
        "df_teams_2019.head()"
      ]
    },
    {
      "cell_type": "code",
      "execution_count": null,
      "metadata": {
        "colab": {
          "base_uri": "https://localhost:8080/",
          "height": 206
        },
        "id": "YKJgCGDcmGSW",
        "outputId": "52e793f4-f511-44d5-ad20-bc46188d8244"
      },
      "outputs": [],
      "source": [
        "# Building the model\n",
        "\n",
        "# The prediction label: The winning_team column will show \"1\" if Team 1 has won, and \"2\" if Team 2 has won.\n",
        "\n",
        "df_teams_2019 = df_teams_2019.reset_index(drop=True)\n",
        "df_teams_2019.loc[df_teams_2019.Winner == df_teams_2019.Team_1,'winning_team']=1\n",
        "df_teams_2019.loc[df_teams_2019.Winner == df_teams_2019.Team_2, 'winning_team']=2\n",
        "df_teams_2019 = df_teams_2019.drop(['winning_team'], axis=1)\n",
        "\n",
        "df_teams_2019.head()"
      ]
    },
    {
      "cell_type": "code",
      "execution_count": null,
      "metadata": {
        "id": "A_7bxaKKmGSX"
      },
      "outputs": [],
      "source": [
        "# Convert team-1 and team-2 from categorical variables to continous inputs\n",
        "\n",
        "final = pd.get_dummies(df_teams_2019, prefix=['Team_1', 'Team_2'], columns=['Team_1', 'Team_2'])\n",
        "\n",
        "# Separate X and y sets\n",
        "\n",
        "X = final.drop(['Winner'], axis=1)\n",
        "y = final[\"Winner\"]\n",
        "\n",
        "\n",
        "# Divide the data for training and testing\n",
        "\n",
        "X_train, X_test, y_train, y_test = train_test_split(X, y, test_size=0.30, random_state=42)"
      ]
    },
    {
      "cell_type": "code",
      "execution_count": null,
      "metadata": {
        "colab": {
          "base_uri": "https://localhost:8080/",
          "height": 290
        },
        "id": "kwDjHAXTmGSY",
        "outputId": "1761b158-656a-4844-9fa4-f274fe2956a1"
      },
      "outputs": [],
      "source": [
        "# Display the first 5 rows of the data\n",
        "final.head()"
      ]
    },
    {
      "cell_type": "code",
      "execution_count": null,
      "metadata": {
        "colab": {
          "base_uri": "https://localhost:8080/"
        },
        "id": "g-nn9MWVmGSY",
        "outputId": "06fdb188-9d7e-46a9-821a-c676e17ad701"
      },
      "outputs": [],
      "source": [
        "logreg = LogisticRegression()\n",
        "logreg.fit(X_train, y_train)\n",
        "score = logreg.score(X_train, y_train)\n",
        "score2 = logreg.score(X_test, y_test)\n",
        "\n",
        "print(\"Training set accuracy: \", '%.3f'%(score))\n",
        "print(\"Test set accuracy: \", '%.3f'%(score2))"
      ]
    },
    {
      "cell_type": "code",
      "execution_count": null,
      "metadata": {
        "id": "FDVxA2JemGSZ"
      },
      "outputs": [],
      "source": [
        "# Adding the ICC rankings\n",
        "# The team which is positioned higher on the ICC Ranking will be considered \"favourite\" for the match\n",
        "# and will be positioned under the \"Team_1\" column\n",
        "\n",
        "# Loading new datasets\n",
        "\n",
        "ranking = pd.read_csv('icc_rankings.csv')\n",
        "fixtures = pd.read_csv('ICC-Cricket-World-Cup-2023-Schedule-Excel.csv')\n",
        "\n",
        "# List for storing the group stage games\n",
        "\n",
        "pred_set = []"
      ]
    },
    {
      "cell_type": "code",
      "execution_count": null,
      "metadata": {
        "colab": {
          "base_uri": "https://localhost:8080/",
          "height": 206
        },
        "id": "ujIGlerlmGSZ",
        "outputId": "01eeea98-de85-4fd2-a90f-108d1443b168"
      },
      "outputs": [],
      "source": [
        "# Create new columns with ranking position of each team\n",
        "\n",
        "fixtures.insert(1, 'first_position', fixtures['Team_1'].map(ranking.set_index('Team')['Position']))\n",
        "fixtures.insert(2, 'second_position', fixtures['Team_2'].map(ranking.set_index('Team')['Position']))\n",
        "\n",
        "# We only need the group stage games, so slice the dataset and display the last 5 rows\n",
        "\n",
        "fixtures = fixtures.iloc[:45, :]\n",
        "fixtures.tail()"
      ]
    },
    {
      "cell_type": "code",
      "execution_count": null,
      "metadata": {
        "colab": {
          "base_uri": "https://localhost:8080/",
          "height": 206
        },
        "id": "-Z_hXHyamGSZ",
        "outputId": "cb341693-46cf-4518-c220-774737c68107"
      },
      "outputs": [],
      "source": [
        "# Loop to add teams to new prediction dataset based on the ranking position of each team\n",
        "\n",
        "for index, row in fixtures.iterrows():\n",
        "    if row['first_position'] < row['second_position']:\n",
        "        pred_set.append({'Team_1': row['Team_1'], 'Team_2': row['Team_2'], 'winning_team': None})\n",
        "    else:\n",
        "        pred_set.append({'Team_1': row['Team_2'], 'Team_2': row['Team_1'], 'winning_team': None})\n",
        "\n",
        "pred_set = pd.DataFrame(pred_set)\n",
        "backup_pred_set = pred_set\n",
        "pred_set.head()"
      ]
    },
    {
      "cell_type": "code",
      "execution_count": null,
      "metadata": {
        "colab": {
          "base_uri": "https://localhost:8080/",
          "height": 273
        },
        "id": "tvF8csXnmGSa",
        "outputId": "70d6e926-bf10-4567-ed4c-144b47b3bc12"
      },
      "outputs": [],
      "source": [
        "# Get dummy variables and drop winning_team column\n",
        "\n",
        "pred_set = pd.get_dummies(pred_set, prefix=['Team_1', 'Team_2'], columns=['Team_1', 'Team_2'])\n",
        "\n",
        "# Add missing columns compared to the model's training dataset\n",
        "\n",
        "missing_cols = set(final.columns) - set(pred_set.columns)\n",
        "for c in missing_cols:\n",
        "    pred_set[c] = 0\n",
        "pred_set = pred_set[final.columns]\n",
        "\n",
        "\n",
        "pred_set = pred_set.drop(['Winner'], axis=1)\n",
        "pred_set.head()"
      ]
    },
    {
      "cell_type": "code",
      "execution_count": null,
      "metadata": {
        "colab": {
          "base_uri": "https://localhost:8080/"
        },
        "id": "lsuIu-1QmGSa",
        "outputId": "7127db22-af56-4916-970e-6c58670fa9fc"
      },
      "outputs": [],
      "source": [
        "predictions = logreg.predict(pred_set)\n",
        "for i in range(fixtures.shape[0]):\n",
        "    print(backup_pred_set.iloc[i, 1] + \" and \" + backup_pred_set.iloc[i, 0])\n",
        "    if predictions[i] == 1:\n",
        "        print(\"Winner: \" + backup_pred_set.iloc[i, 1])\n",
        "    else:\n",
        "        print(\"Winner: \" + backup_pred_set.iloc[i, 0])\n",
        "    print(\"\")\n"
      ]
    },
    {
      "cell_type": "code",
      "execution_count": null,
      "metadata": {
        "colab": {
          "base_uri": "https://localhost:8080/"
        },
        "id": "xgmEALwW6iuv",
        "outputId": "b12125bc-424d-4ea7-8fa4-ea232913bdcb"
      },
      "outputs": [],
      "source": [
        "predictions = logreg.predict(pred_set)\n",
        "winners = []\n",
        "\n",
        "for i in range(fixtures.shape[0]):\n",
        "    team1 = backup_pred_set.iloc[i, 1]\n",
        "    team2 = backup_pred_set.iloc[i, 0]\n",
        "    if predictions[i] == 1:\n",
        "        winner = team1\n",
        "    else:\n",
        "        winner = team2\n",
        "    winners.append(winner)\n",
        "\n",
        "# Now the 'winners' list contains the names of the predicted winners for each match\n",
        "print(winners)\n"
      ]
    },
    {
      "cell_type": "code",
      "execution_count": null,
      "metadata": {
        "colab": {
          "base_uri": "https://localhost:8080/"
        },
        "id": "DlHR69Z17OwG",
        "outputId": "3c67c87c-f76a-4b7a-afc5-bc016e0b39c3"
      },
      "outputs": [],
      "source": [
        "team_wins = {}\n",
        "\n",
        "# Count the number of wins for each team\n",
        "for winner in winners:\n",
        "    if winner in team_wins:\n",
        "        team_wins[winner] += 1\n",
        "    else:\n",
        "        team_wins[winner] = 1\n",
        "\n",
        "sorted_team_wins = dict(sorted(team_wins.items(), key=lambda item: item[1], reverse=True))\n",
        "\n",
        "for team, wins in sorted_team_wins.items():\n",
        "    print(f\"{team}: {wins} wins\")"
      ]
    },
    {
      "cell_type": "code",
      "execution_count": null,
      "metadata": {
        "colab": {
          "base_uri": "https://localhost:8080/"
        },
        "id": "yzoNdbWd7w13",
        "outputId": "b629db6f-14be-4bde-cb49-158ac16024ce"
      },
      "outputs": [],
      "source": [
        "teams = list(sorted_team_wins.keys())\n",
        "\n",
        "# Create new list of tuples with top team paired with fourth and second with third\n",
        "semi_finals = [(teams[0], teams[3]), (teams[1], teams[2])]\n",
        "\n",
        "print(semi_finals)"
      ]
    },
    {
      "cell_type": "code",
      "execution_count": null,
      "metadata": {
        "id": "js4ctRaBmGSb"
      },
      "outputs": [],
      "source": [
        "def clean_and_predict(matches, ranking, final, logreg):\n",
        "\n",
        "    # Initialization of auxiliary list for data cleaning\n",
        "    positions = []\n",
        "\n",
        "    # Loop to retrieve each team's position according to ICC ranking\n",
        "    for match in matches:\n",
        "        positions.append(ranking.loc[ranking['Team'] == match[0],'Position'].iloc[0])\n",
        "        positions.append(ranking.loc[ranking['Team'] == match[1],'Position'].iloc[0])\n",
        "\n",
        "    # Creating the DataFrame for prediction\n",
        "    pred_set = []\n",
        "\n",
        "    # Initializing iterators for while loop\n",
        "    i = 0\n",
        "    j = 0\n",
        "\n",
        "    # 'i' will be the iterator for the 'positions' list, and 'j' for the list of matches (list of tuples)\n",
        "    while i < len(positions):\n",
        "        dict1 = {}\n",
        "\n",
        "        # If position of first team is better then this team will be the 'Team_1' team, and vice-versa\n",
        "        if positions[i] < positions[i + 1]:\n",
        "            dict1.update({'Team_1': matches[j][0], 'Team_2': matches[j][1]})\n",
        "        else:\n",
        "            dict1.update({'Team_1': matches[j][1], 'Team_2': matches[j][0]})\n",
        "\n",
        "        # Append updated dictionary to the list, that will later be converted into a DataFrame\n",
        "        pred_set.append(dict1)\n",
        "        i += 2\n",
        "        j += 1\n",
        "\n",
        "        # Convert list into DataFrame\n",
        "    pred_set = pd.DataFrame(pred_set)\n",
        "    backup_pred_set = pred_set\n",
        "\n",
        "    # Get dummy variables and drop winning_team column\n",
        "    pred_set = pd.get_dummies(pred_set, prefix=['Team_1', 'Team_2'], columns=['Team_1', 'Team_2'])\n",
        "\n",
        "    # Add missing columns compared to the model's training dataset\n",
        "    missing_cols2 = set(final.columns) - set(pred_set.columns)\n",
        "    for c in missing_cols2:\n",
        "        pred_set[c] = 0\n",
        "    pred_set = pred_set[final.columns]\n",
        "\n",
        "    pred_set = pred_set.drop(['Winner'], axis=1)\n",
        "\n",
        "    # Predict!\n",
        "    predictions = logreg.predict(pred_set)\n",
        "    final_results = []\n",
        "\n",
        "    for i in range(len(pred_set)):\n",
        "        team1 = backup_pred_set.iloc[i, 1]\n",
        "        team2 = backup_pred_set.iloc[i, 0]\n",
        "        if predictions[i] == 1:\n",
        "            winner = team1\n",
        "        else:\n",
        "            winner = team2\n",
        "        final_results.append(winner)\n",
        "\n",
        "        # Print the match details and winner\n",
        "        print(team1 + \" and \" + team2)\n",
        "        print(\"Winner: \" + winner)\n",
        "        print(\"\")\n",
        "\n",
        "    # Create a tuple containing only the winners\n",
        "    finals = tuple(final_results)\n",
        "\n",
        "    return finals\n"
      ]
    },
    {
      "cell_type": "code",
      "execution_count": null,
      "metadata": {
        "colab": {
          "base_uri": "https://localhost:8080/"
        },
        "id": "PHRn4SphmGSb",
        "outputId": "479cd582-ca3d-43d4-d12a-28fe3f44011f"
      },
      "outputs": [],
      "source": [
        "semi_finals_results = clean_and_predict(semi_finals, ranking, final, logreg)\n",
        "\n"
      ]
    },
    {
      "cell_type": "code",
      "execution_count": null,
      "metadata": {
        "colab": {
          "base_uri": "https://localhost:8080/"
        },
        "id": "HNWyXUYo95Yz",
        "outputId": "2a65e10f-ebfd-4715-c38c-de2ea25dd128"
      },
      "outputs": [],
      "source": [
        "winner1, winner2 = semi_finals_results\n",
        "\n",
        "# Forming the finals match tuple\n",
        "finals = [(winner1,winner2)]\n",
        "\n",
        "# Print or process finals as needed\n",
        "print(\"Finals:\")\n",
        "print(finals)"
      ]
    },
    {
      "cell_type": "code",
      "execution_count": null,
      "metadata": {
        "id": "BSINjaTICkB5"
      },
      "outputs": [],
      "source": [
        "def clean_and_predict_final(matches, ranking, final, logreg):\n",
        "\n",
        "    # Initialization of auxiliary list for data cleaning\n",
        "    positions = []\n",
        "\n",
        "    # Loop to retrieve each team's position according to ICC ranking\n",
        "    for match in matches:\n",
        "        positions.append(ranking.loc[ranking['Team'] == match[0],'Position'].iloc[0])\n",
        "        positions.append(ranking.loc[ranking['Team'] == match[1],'Position'].iloc[0])\n",
        "\n",
        "    # Creating the DataFrame for prediction\n",
        "    pred_set = []\n",
        "\n",
        "    # Initializing iterators for while loop\n",
        "    i = 0\n",
        "    j = 0\n",
        "\n",
        "    # 'i' will be the iterator for the 'positions' list, and 'j' for the list of matches (list of tuples)\n",
        "    while i < len(positions):\n",
        "        dict1 = {}\n",
        "\n",
        "        # If position of first team is better then this team will be the 'Team_1' team, and vice-versa\n",
        "        if positions[i] < positions[i + 1]:\n",
        "            dict1.update({'Team_1': matches[j][0], 'Team_2': matches[j][1]})\n",
        "        else:\n",
        "            dict1.update({'Team_1': matches[j][1], 'Team_2': matches[j][0]})\n",
        "\n",
        "        # Append updated dictionary to the list, that will later be converted into a DataFrame\n",
        "        pred_set.append(dict1)\n",
        "        i += 2\n",
        "        j += 1\n",
        "\n",
        "        # Convert list into DataFrame\n",
        "    pred_set = pd.DataFrame(pred_set)\n",
        "    backup_pred_set = pred_set\n",
        "\n",
        "    # Get dummy variables and drop winning_team column\n",
        "    pred_set = pd.get_dummies(pred_set, prefix=['Team_1', 'Team_2'], columns=['Team_1', 'Team_2'])\n",
        "\n",
        "    # Add missing columns compared to the model's training dataset\n",
        "    missing_cols2 = set(final.columns) - set(pred_set.columns)\n",
        "    for c in missing_cols2:\n",
        "        pred_set[c] = 0\n",
        "    pred_set = pred_set[final.columns]\n",
        "\n",
        "    pred_set = pred_set.drop(['Winner'], axis=1)\n",
        "\n",
        "    # Predict!\n",
        "    predictions = logreg.predict(pred_set)\n",
        "    final_results = []\n",
        "\n",
        "    for i in range(len(pred_set)):\n",
        "        team1 = backup_pred_set.iloc[i, 1]\n",
        "        team2 = backup_pred_set.iloc[i, 0]\n",
        "        if predictions[i] == 1:\n",
        "            winner = team1\n",
        "        else:\n",
        "            winner = team2\n",
        "        final_results.append(winner)\n",
        "\n",
        "        # Print the match details and winner\n",
        "        print(team1 + \" and \" + team2)\n",
        "        print(\"Winner: \" + winner)\n",
        "        print(\"\")\n",
        "\n",
        "    # Create a tuple containing only the winners\n"
      ]
    },
    {
      "cell_type": "code",
      "execution_count": null,
      "metadata": {
        "colab": {
          "base_uri": "https://localhost:8080/"
        },
        "id": "IZ8y7kukB7I0",
        "outputId": "4a9369e9-43a1-434c-a208-a404bfdc09bd"
      },
      "outputs": [],
      "source": [
        "clean_and_predict_final(finals, ranking, final, logreg)"
      ]
    },
    {
      "cell_type": "code",
      "execution_count": null,
      "metadata": {
        "id": "dbnsnNygCHdG"
      },
      "outputs": [],
      "source": []
    }
  ],
  "metadata": {
    "colab": {
      "provenance": []
    },
    "kernelspec": {
      "display_name": "Python 3",
      "language": "python",
      "name": "python3"
    },
    "language_info": {
      "codemirror_mode": {
        "name": "ipython",
        "version": 3
      },
      "file_extension": ".py",
      "mimetype": "text/x-python",
      "name": "python",
      "nbconvert_exporter": "python",
      "pygments_lexer": "ipython3",
      "version": "3.11.1"
    }
  },
  "nbformat": 4,
  "nbformat_minor": 0
}
